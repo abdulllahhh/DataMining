{
 "cells": [
  {
   "cell_type": "markdown",
   "metadata": {},
   "source": [
    "# Loan Classification Problem\n",
    "Loan approval prediction. Generally, it involves the lender looking at various background information about the applicant, and deciding whether the bank should grant the loan. Parameters like credit score, loan amount, lifestyle, career, and assets are the deciding factors in getting the loan approved. If, in the past, people with parameters similar to yours have paid their dues timely, it is more likely that your loan would be granted as well.\n",
    "\n",
    "<br>\n",
    "\n",
    "## Table of Content\n",
    "- [ 1 - Packages ](#1)\n",
    "- [ 2 - Understanding the data ](#2)\n",
    "  - [ 2.1 Loading and visualizing the data ](#2.1)\n",
    "- [ 3 - Data preprocessing ](#3)\n",
    "  - [ 3.1 Data Cleaning ](#3.1)\n",
    "  - [ 3.2 Feature transformation ](#3.2)\n",
    "  - [ 3.3 Conclusion ](#3.3)\n",
    "- [ 4 - Models Implementation ](#4)\n",
    "  - [ 4.1 Gradient Boosting Classifier ](#4.1)\n",
    "  - [ 4.2 Random Forest Classifier ](#4.2)\n",
    "  - [ 4.3 Decision Tree Classifier ](#4.3)\n",
    "  - [ 4.4 K-Neighbors Classifier ](#4.4)\n",
    "  - [ 4.5 Linear Support Vector Classifier ](#4.5)\n",
    "  - [ 4.6 XGB Classifier ](#4.6)\n",
    "  - [ 4.7 Logistic Regression Classifier ](#4.7)\n",
    "- [ 5 - Evaluating the Models ](#5)\n",
    "  - [ 5.1 Gradient Boosting Classifier ](#5.1)\n",
    "  - [ 5.2 Random Forest Classifier ](#5.2)\n",
    "  - [ 5.3 Decision Tree Classifier ](#5.3)\n",
    "  - [ 5.4 K-Neighbors Classifier ](#5.4)\n",
    "  - [ 5.5 Linear Support Vector Classifier ](#5.5)\n",
    "  - [ 5.6 XGB Classifier ](#5.6)\n",
    "  - [ 5.7 Logistic Regression Classifier ](#5.7)\n",
    "- [ 6 - Conclusion ](#6)\n"
   ]
  },
  {
   "cell_type": "markdown",
   "metadata": {},
   "source": [
    "<a id=\"1\"></a>\n",
    "## 1 - Packages\n",
    "\n",
    "First, Let's import all the packages that we will need during this project\n",
    "\n",
    "- [numpy](www.numpy.org) is the fundamental package for scientific computing with Python.\n",
    "- [pandas](https://pandas.pydata.org) is a famous package for data analysis and manipulation tool in Python.\n",
    "- [matplotlib](https://matplotlib.org) is a famous library to plot graphs in Python.\n",
    "- [seaborn](https://seaborn.pydata.org) is a famous Python data visualization library based on matplotlib.\n",
    "- [sklearn](https://scikit-learn.org) is a wide-used, simple and efficient tool for predictive data analysis in Python.\n",
    "- [xgboost](https://xgboost.readthedocs.io) is an optimized distributed gradient boosting library that implements machine learning algorithms in Python."
   ]
  },
  {
   "cell_type": "code",
   "execution_count": 1,
   "metadata": {},
   "outputs": [],
   "source": [
    "import pandas as pd\n",
    "import numpy as np\n",
    "import matplotlib.pyplot as plt\n",
    "import seaborn as sns\n",
    "import xgboost as xgb\n",
    "from sklearn.ensemble import GradientBoostingClassifier\n",
    "from sklearn.ensemble import RandomForestClassifier\n",
    "from sklearn.model_selection import train_test_split\n",
    "from sklearn.tree import DecisionTreeClassifier\n",
    "from sklearn.neighbors import KNeighborsClassifier\n",
    "from sklearn import svm\n",
    "from sklearn.linear_model import LogisticRegression\n",
    "from sklearn.metrics import accuracy_score, f1_score, confusion_matrix, ConfusionMatrixDisplay\n",
    "from sklearn.preprocessing import MinMaxScaler"
   ]
  },
  {
   "cell_type": "markdown",
   "metadata": {},
   "source": [
    "<a id=\"2\"></a>\n",
    "## 2 - Understanding the data\n",
    "\n",
    "The data is collected from *<a href=\"https://www.kaggle.com/datasets/burak3ergun/loan-data-set\">Kaggle</a>* which address the attributes of many applicants and the state of the loan.\n",
    "<br>\n",
    "<a id=\"2.1\"></a>\n",
    "### 2.1 Loading and visualizing the data"
   ]
  },
  {
   "cell_type": "code",
   "execution_count": null,
   "metadata": {},
   "outputs": [],
   "source": [
    "#Read data\n",
    "df = pd.read_csv(\"assets/data.csv\")"
   ]
  },
  {
   "cell_type": "markdown",
   "metadata": {},
   "source": [
    "#### View the features\n",
    "Let's get more familiar with the dataset."
   ]
  },
  {
   "cell_type": "code",
   "execution_count": null,
   "metadata": {},
   "outputs": [],
   "source": [
    "#preview data\n",
    "df.head()"
   ]
  },
  {
   "cell_type": "markdown",
   "source": [
    "<a id=\"2.2\"></a>\n",
    "### 2.2 Understanding the dataset features\n",
    "##### Displaying information about the features"
   ],
   "metadata": {
    "collapsed": false
   }
  },
  {
   "cell_type": "code",
   "execution_count": null,
   "outputs": [],
   "source": [
    "#Preview data information\n",
    "df.info()"
   ],
   "metadata": {
    "collapsed": false
   }
  },
  {
   "cell_type": "markdown",
   "source": [
    "##### The meaning of the features\n",
    "\n",
    "| Variable Name     | Description                                                                        |\n",
    "|-------------------|------------------------------------------------------------------------------------|\n",
    "| Loan_ID           | Loan reference number(unique ID)                                                   |\n",
    "| Gender            | Applicant gender(Male or Female)                                                   |\n",
    "| Married           | Applicant marital status(Married or not married)                                   |\n",
    "| Dependents        | Number of family members                                                           |\n",
    "| Education         | \tApplicant education/qualification(graduate or not graduate)                       |\n",
    "| Self_Employed     | \tApplicant employment status(yes for self-employed, no for employed/others)        |\n",
    "| ApplicantIncome   | Applicant's monthly salary/income                                                  |\n",
    "| CoapplicantIncome | Additional applicant's monthly salary/income                                       |\n",
    "| LoanAmount        | Loan amount                                                                        |\n",
    "| Loan_Amount_Term  | \tThe loan's repayment period (in days)                                             |\n",
    "| Credit_History    | \tRecords of previous credit history(0: bad credit history, 1: good credit history) |\n",
    "| Property_Area     | The location of property(Rural/Semiurban/Urban)                                    |\n",
    "| Loan_Status       | Status of loan(Y: accepted, N: not accepted)                                       |\n",
    "\n"
   ],
   "metadata": {
    "collapsed": false
   }
  },
  {
   "cell_type": "markdown",
   "source": [
    "<a id=\"3\"></a>\n",
    "## 3 - Data preprocessing\n",
    "Data preprocessing is used to transform the raw data in a useful and efficient format by cleaning the data, transform it and reduction it and  so on.\n",
    "<br>\n",
    "\n",
    "<a id=\"3.1\"></a>\n",
    "### 3.1 Data Cleaning\n",
    "First, let's check whether the data have missing values or not."
   ],
   "metadata": {
    "collapsed": false
   }
  },
  {
   "cell_type": "code",
   "execution_count": null,
   "metadata": {},
   "outputs": [],
   "source": [
    "#Preview data information\n",
    "df.info()"
   ]
  },
  {
   "cell_type": "code",
   "execution_count": null,
   "metadata": {},
   "outputs": [],
   "source": [
    "#Check missing values\n",
    "df.isnull().sum()"
   ]
  },
  {
   "cell_type": "markdown",
   "source": [
    "- Therefor, the features `Gender`, `Married`, `Dependents`, `Self-Employed`, `LoanAmount`, `Loan_Amount_Term` and `Credit_History` have missing values.\n",
    "\n",
    "- Let's fix them one by one."
   ],
   "metadata": {
    "collapsed": false
   }
  },
  {
   "cell_type": "markdown",
   "source": [
    "#### Gender - Missing Value"
   ],
   "metadata": {
    "collapsed": false
   }
  },
  {
   "cell_type": "code",
   "execution_count": null,
   "outputs": [],
   "source": [
    "# percent of missing \"Gender\"\n",
    "print('Percent of missing \"Gender\" records is %.2f%%' %((df['Gender'].isnull().sum()/df.shape[0])*100))\n",
    "# %s specifically is used to perform concatenation of strings together.\n",
    "print(\"Number of people who take a loan group by gender :\")\n",
    "print(df['Gender'].value_counts())"
   ],
   "metadata": {
    "collapsed": false
   }
  },
  {
   "cell_type": "markdown",
   "source": [
    "##### Visualizing Gender"
   ],
   "metadata": {
    "collapsed": false
   }
  },
  {
   "cell_type": "code",
   "execution_count": null,
   "outputs": [],
   "source": [
    "#visuals\n",
    "df['Gender'].value_counts().plot.bar(rot=0)\n",
    "sns.countplot(x='Gender', data=df, palette = 'Set2')"
   ],
   "metadata": {
    "collapsed": false
   }
  },
  {
   "cell_type": "markdown",
   "source": [
    "#### Married - Missing Value"
   ],
   "metadata": {
    "collapsed": false
   }
  },
  {
   "cell_type": "code",
   "execution_count": null,
   "outputs": [],
   "source": [
    "# percent of missing \"Married\"\n",
    "print('Percent of missing \"Married\" records is %.2f%%' %((df['Married'].isnull().sum()/df.shape[0])*100))\n",
    "print(\"Number of people who take a loan group by marital status :\")\n",
    "print(df['Married'].value_counts())"
   ],
   "metadata": {
    "collapsed": false
   }
  },
  {
   "cell_type": "markdown",
   "source": [
    "##### Visualizing Married"
   ],
   "metadata": {
    "collapsed": false
   }
  },
  {
   "cell_type": "code",
   "execution_count": null,
   "outputs": [],
   "source": [
    "#visuals\n",
    "df['Married'].value_counts().plot.bar(rot=0)"
   ],
   "metadata": {
    "collapsed": false
   }
  },
  {
   "cell_type": "code",
   "execution_count": null,
   "outputs": [],
   "source": [
    "sns.countplot(x='Married', data=df, palette = 'Set2')"
   ],
   "metadata": {
    "collapsed": false
   }
  },
  {
   "cell_type": "markdown",
   "source": [
    "#### Dependents - Missing Value"
   ],
   "metadata": {
    "collapsed": false
   }
  },
  {
   "cell_type": "code",
   "execution_count": null,
   "outputs": [],
   "source": [
    "# percent of missing \"Dependents\"\n",
    "print('Percent of missing \"Dependents\" records is %.2f%%' %((df['Dependents'].isnull().sum()/df.shape[0])*100))\n",
    "print(\"Number of people who take a loan group by dependents :\")\n",
    "print(df['Dependents'].value_counts())"
   ],
   "metadata": {
    "collapsed": false
   }
  },
  {
   "cell_type": "markdown",
   "source": [
    "##### Visualizing Dependents"
   ],
   "metadata": {
    "collapsed": false
   }
  },
  {
   "cell_type": "code",
   "execution_count": null,
   "outputs": [],
   "source": [
    "#visuals\n",
    "df['Dependents'].value_counts().plot.bar(rot=0)"
   ],
   "metadata": {
    "collapsed": false
   }
  },
  {
   "cell_type": "code",
   "execution_count": null,
   "outputs": [],
   "source": [
    "sns.countplot(x='Dependents', data=df, palette = 'Set2')"
   ],
   "metadata": {
    "collapsed": false
   }
  },
  {
   "cell_type": "markdown",
   "source": [
    "#### Education - Missing Value"
   ],
   "metadata": {
    "collapsed": false
   }
  },
  {
   "cell_type": "code",
   "execution_count": null,
   "outputs": [],
   "source": [
    "# percent of missing \"Education\"\n",
    "print('Percent of missing \"Self_Employed\" records is %.2f%%' %((df['Education'].isnull().sum()/df.shape[0])*100))\n",
    "print(\"Number of people who take a loan group by Education :\")\n",
    "print(df['Education'].value_counts())"
   ],
   "metadata": {
    "collapsed": false
   }
  },
  {
   "cell_type": "markdown",
   "source": [
    "##### Visualizing Education"
   ],
   "metadata": {
    "collapsed": false
   }
  },
  {
   "cell_type": "code",
   "execution_count": null,
   "outputs": [],
   "source": [
    "#visuals\n",
    "df['Education'].value_counts().plot.bar(rot=0)"
   ],
   "metadata": {
    "collapsed": false
   }
  },
  {
   "cell_type": "code",
   "execution_count": null,
   "outputs": [],
   "source": [
    "sns.countplot(x='Education', data=df, palette = 'Set2')"
   ],
   "metadata": {
    "collapsed": false
   }
  },
  {
   "cell_type": "markdown",
   "source": [
    "#### Self Employed - Missing Value"
   ],
   "metadata": {
    "collapsed": false
   }
  },
  {
   "cell_type": "code",
   "execution_count": null,
   "outputs": [],
   "source": [
    "# percent of missing \"Self_Employed\"\n",
    "print('Percent of missing \"Self_Employed\" records is %.2f%%' %((df['Self_Employed'].isnull().sum()/df.shape[0])*100))\n",
    "print(\"Number of people who take a loan group by self employed :\")\n",
    "print(df['Self_Employed'].value_counts())"
   ],
   "metadata": {
    "collapsed": false
   }
  },
  {
   "cell_type": "markdown",
   "source": [
    "##### Visualizing Self Employed"
   ],
   "metadata": {
    "collapsed": false
   }
  },
  {
   "cell_type": "code",
   "execution_count": null,
   "outputs": [],
   "source": [
    "#visuals\n",
    "df['Self_Employed'].value_counts().plot.bar(rot=0)"
   ],
   "metadata": {
    "collapsed": false
   }
  },
  {
   "cell_type": "code",
   "execution_count": null,
   "outputs": [],
   "source": [
    "sns.countplot(x='Self_Employed', data=df, palette = 'Set2')"
   ],
   "metadata": {
    "collapsed": false
   }
  },
  {
   "cell_type": "markdown",
   "source": [
    "#### Loan Amount - Missing Value"
   ],
   "metadata": {
    "collapsed": false
   }
  },
  {
   "cell_type": "code",
   "execution_count": null,
   "outputs": [],
   "source": [
    "# percent of missing \"LoanAmount\"\n",
    "print('Percent of missing \"LoanAmount\" records is %.2f%%' %((df['LoanAmount'].isnull().sum()/df.shape[0])*100))"
   ],
   "metadata": {
    "collapsed": false
   }
  },
  {
   "cell_type": "markdown",
   "source": [
    "##### Visualizing Loan Amount"
   ],
   "metadata": {
    "collapsed": false
   }
  },
  {
   "cell_type": "code",
   "execution_count": null,
   "outputs": [],
   "source": [
    "#visuals\n",
    "ax = df[\"LoanAmount\"].hist(density=True, stacked=True, color='teal', alpha=0.6)\n",
    "df[\"LoanAmount\"].plot(kind='density', color='teal')\n",
    "ax.set(xlabel='Loan Amount')\n",
    "plt.show()"
   ],
   "metadata": {
    "collapsed": false
   }
  },
  {
   "cell_type": "markdown",
   "source": [
    "##### Loan Amount is skewed and have outliers"
   ],
   "metadata": {
    "collapsed": false
   }
  },
  {
   "cell_type": "code",
   "execution_count": null,
   "outputs": [],
   "source": [
    "df['LoanAmount'].median()\n",
    "df['LoanAmount'].mode()\n",
    "df['LoanAmount'].mean()\n",
    "sns.boxplot(y='LoanAmount', data=df)\n",
    "sns.histplot(data=df, x='LoanAmount', palette='Set2')"
   ],
   "metadata": {
    "collapsed": false
   }
  },
  {
   "cell_type": "markdown",
   "source": [
    "#### Loan Amount Term - Missing Value"
   ],
   "metadata": {
    "collapsed": false
   }
  },
  {
   "cell_type": "code",
   "execution_count": null,
   "outputs": [],
   "source": [
    "# percent of missing \"Loan_Amount_Term\"\n",
    "print('Percent of missing \"Loan_Amount_Term\" records is %.2f%%' %((df['Loan_Amount_Term'].isnull().sum()/df.shape[0])*100))\n",
    "print(\"Number of people who take a loan group by loan amount term :\")\n",
    "print(df['Loan_Amount_Term'].value_counts())"
   ],
   "metadata": {
    "collapsed": false
   }
  },
  {
   "cell_type": "markdown",
   "source": [
    "##### Visualizing Loan Amount Term"
   ],
   "metadata": {
    "collapsed": false
   }
  },
  {
   "cell_type": "code",
   "execution_count": null,
   "outputs": [],
   "source": [
    "#visuals\n",
    "sns.countplot(x='Loan_Amount_Term', data=df, palette = 'Set2')"
   ],
   "metadata": {
    "collapsed": false
   }
  },
  {
   "cell_type": "code",
   "execution_count": null,
   "outputs": [],
   "source": [
    "sns.histplot(data=df,x='LoanAmount', palette = 'Set2')"
   ],
   "metadata": {
    "collapsed": false
   }
  },
  {
   "cell_type": "markdown",
   "source": [
    "#### Credit History - Missing Value"
   ],
   "metadata": {
    "collapsed": false
   }
  },
  {
   "cell_type": "code",
   "execution_count": null,
   "outputs": [],
   "source": [
    "# percent of missing \"Credit_History\"\n",
    "print('Percent of missing \"Credit_History\" records is %.2f%%' %((df['Credit_History'].isnull().sum()/df.shape[0])*100))\n",
    "print(\"Number of people who take a loan group by credit history :\")\n",
    "print(df['Credit_History'].value_counts())"
   ],
   "metadata": {
    "collapsed": false
   }
  },
  {
   "cell_type": "markdown",
   "source": [
    "##### Visualizing Credit History"
   ],
   "metadata": {
    "collapsed": false
   }
  },
  {
   "cell_type": "code",
   "execution_count": null,
   "outputs": [],
   "source": [
    "sns.countplot(x='Credit_History', data=df, palette = 'Set2')"
   ],
   "metadata": {
    "collapsed": false
   }
  },
  {
   "cell_type": "markdown",
   "source": [
    "#### Conclusion\n",
    "*Based on the previous visualization, we will fill the missing data of the features by*:\n",
    "- If `Gender` is missing = Male (mode).\n",
    "- If `Married` is missing = yes (mode).\n",
    "- If `Dependents` is missing = 0 (mode).\n",
    "- If `Self_Employed` is missing = no (mode).\n",
    "- If `LoanAmount` is missing = median of data. (it's a numeric data, mode doesn't make sense)\n",
    "- If `Loan_Amount_Term` is missing = 360 (mode).\n",
    "- If `Credit_History` is missing = 1.0 (mode)."
   ],
   "metadata": {
    "collapsed": false
   }
  },
  {
   "cell_type": "code",
   "execution_count": null,
   "outputs": [],
   "source": [
    "train_data = df.copy()\n",
    "train_data['Gender'].fillna(train_data['Gender'].mode()[0], inplace=True)\n",
    "train_data['Married'].fillna(train_data['Married'].mode()[0], inplace=True)\n",
    "train_data['Dependents'].fillna(train_data['Dependents'].mode()[0], inplace=True)\n",
    "train_data['Self_Employed'].fillna(train_data['Self_Employed'].mode()[0], inplace=True)\n",
    "train_data[\"LoanAmount\"].fillna(train_data[\"LoanAmount\"].median(), inplace=True)\n",
    "train_data['Loan_Amount_Term'].fillna(train_data['Loan_Amount_Term'].mode()[0], inplace=True)\n",
    "train_data['Credit_History'].fillna(train_data['Credit_History'].mode()[0], inplace=True)"
   ],
   "metadata": {
    "collapsed": false
   }
  },
  {
   "cell_type": "code",
   "execution_count": null,
   "outputs": [],
   "source": [
    "#Check missing values\n",
    "train_data.isnull().sum()\n",
    "# train_data"
   ],
   "metadata": {
    "collapsed": false
   }
  },
  {
   "cell_type": "markdown",
   "source": [
    "<strong>The data looks fine, no more missing values ... moving into the next point.</strong>"
   ],
   "metadata": {
    "collapsed": false
   }
  },
  {
   "cell_type": "markdown",
   "source": [
    "<a id=\"3.2\"></a>\n",
    "### 3.2 Data transformation\n",
    "Here, we transform the data into appropriate forms suitable for mining process by doing Normalization.\n",
    "<br>\n",
    "#### Transform and Convert categorical object data type to Numeric(int64)\n",
    "generate the new data type to transform into"
   ],
   "metadata": {
    "collapsed": false
   }
  },
  {
   "cell_type": "code",
   "execution_count": null,
   "outputs": [],
   "source": [
    "gender_stat = {\"Female\": 1, \"Male\": 2}\n",
    "yes_no_stat = {'No': 1, 'Yes': 2}\n",
    "dependents_stat = {'0': 0, '1': 1, '2': 2, '3+': 3}\n",
    "education_stat = {'Not Graduate': 1, 'Graduate': 2}\n",
    "property_stat = {'Semiurban': 0, 'Urban': 1, 'Rural': 2}"
   ],
   "metadata": {
    "collapsed": false
   }
  },
  {
   "cell_type": "markdown",
   "source": [
    "now replace the categorical objects with the generated data type."
   ],
   "metadata": {
    "collapsed": false
   }
  },
  {
   "cell_type": "code",
   "execution_count": null,
   "outputs": [],
   "source": [
    "train_data['Gender'] = train_data['Gender'].replace(gender_stat)\n",
    "train_data['Married'] = train_data['Married'].replace(yes_no_stat)\n",
    "train_data['Dependents'] = train_data['Dependents'].replace(dependents_stat)\n",
    "train_data['Education'] = train_data['Education'].replace(education_stat)\n",
    "train_data['Self_Employed'] = train_data['Self_Employed'].replace(yes_no_stat)\n",
    "train_data['Property_Area'] = train_data['Property_Area'].replace(property_stat)"
   ],
   "metadata": {
    "collapsed": false
   }
  },
  {
   "cell_type": "markdown",
   "source": [
    "Let's preview the data once more."
   ],
   "metadata": {
    "collapsed": false
   }
  },
  {
   "cell_type": "code",
   "execution_count": null,
   "outputs": [],
   "source": [
    "train_data.head()"
   ],
   "metadata": {
    "collapsed": false
   }
  },
  {
   "cell_type": "markdown",
   "source": [
    "#### Feature Scaling\n",
    "there are many problems in the data in terms of the scales of the data like the next following example"
   ],
   "metadata": {
    "collapsed": false
   }
  },
  {
   "cell_type": "code",
   "execution_count": null,
   "outputs": [],
   "source": [
    "sns.countplot(x='Loan_Amount_Term',data=df,palette='Set3')\n",
    "\"\"\"loan amount term is numerical data not following the normal distribution \"\"\""
   ],
   "metadata": {
    "collapsed": false
   }
  },
  {
   "cell_type": "markdown",
   "source": [
    "##### Min-Max Normalization\n",
    "for Numeric data"
   ],
   "metadata": {
    "collapsed": false
   }
  },
  {
   "cell_type": "code",
   "execution_count": null,
   "outputs": [],
   "source": [
    "#minimax scaler\n",
    "#for numeric\n",
    "min_max_scaler = MinMaxScaler()\n",
    "min_max_scaler.fit(train_data.iloc[:, 6:10])\n",
    "normData = pd.DataFrame(min_max_scaler.transform(train_data.iloc[:, 6:10]), index=train_data.index, columns=train_data.iloc[:, 6:10].columns)\n",
    "train_data.iloc[:, 6:10] = normData"
   ],
   "metadata": {
    "collapsed": false
   }
  },
  {
   "cell_type": "markdown",
   "source": [
    "let's preview the data"
   ],
   "metadata": {
    "collapsed": false
   }
  },
  {
   "cell_type": "code",
   "execution_count": null,
   "outputs": [],
   "source": [
    "train_data.head()"
   ],
   "metadata": {
    "collapsed": false
   }
  },
  {
   "cell_type": "markdown",
   "source": [
    "for property area and dependents features"
   ],
   "metadata": {
    "collapsed": false
   }
  },
  {
   "cell_type": "code",
   "execution_count": null,
   "outputs": [],
   "source": [
    "#for property area and dependents\n",
    "prop_depend_scaler = MinMaxScaler()\n",
    "prop_depend_scaler.fit(train_data.loc[:, ['Dependents', 'Property_Area']])\n",
    "prop_depend_norm = pd.DataFrame(prop_depend_scaler.transform(train_data.loc[:, ['Dependents', 'Property_Area']]), index=train_data.loc[:, ['Dependents', 'Property_Area']].index, columns=train_data.loc[:, ['Dependents', 'Property_Area']].columns)\n",
    "train_data.loc[:, ['Dependents', 'Property_Area']] = prop_depend_norm"
   ],
   "metadata": {
    "collapsed": false
   }
  },
  {
   "cell_type": "markdown",
   "source": [
    "let's preview the data again"
   ],
   "metadata": {
    "collapsed": false
   }
  },
  {
   "cell_type": "code",
   "execution_count": null,
   "outputs": [],
   "source": [
    "train_data.head()"
   ],
   "metadata": {
    "collapsed": false
   }
  },
  {
   "cell_type": "markdown",
   "source": [
    "<a id=\"3.3\"></a>\n",
    "### 3.3 Conclusion\n",
    "let's see the data stats before preprocessing"
   ],
   "metadata": {
    "collapsed": false
   }
  },
  {
   "cell_type": "code",
   "execution_count": null,
   "outputs": [],
   "source": [
    "#Preview data information\n",
    "df.info()\n",
    "df.isnull().sum()"
   ],
   "metadata": {
    "collapsed": false
   }
  },
  {
   "cell_type": "markdown",
   "source": [
    "Now, after data preprocessing"
   ],
   "metadata": {
    "collapsed": false
   }
  },
  {
   "cell_type": "code",
   "execution_count": null,
   "outputs": [],
   "source": [
    "train_data.info()\n",
    "train_data.isnull().sum()"
   ],
   "metadata": {
    "collapsed": false
   }
  },
  {
   "cell_type": "code",
   "execution_count": null,
   "outputs": [],
   "source": [
    "train_data.describe()"
   ],
   "metadata": {
    "collapsed": false
   }
  },
  {
   "cell_type": "markdown",
   "source": [
    "<a id=\"4\"></a>\n",
    "## 4 - Models Predictions\n",
    "First, we split the data into training set and test set"
   ],
   "metadata": {
    "collapsed": false
   }
  },
  {
   "cell_type": "code",
   "execution_count": null,
   "outputs": [],
   "source": [
    "#split data\n",
    "x = train_data.iloc[:,1:12]\n",
    "y = train_data.iloc[:,12]\n",
    "\n",
    "X_train, X_test, y_train, y_test = train_test_split(x, y, test_size=0.20, random_state=1234)\n",
    "expected_y = y_test"
   ],
   "metadata": {
    "collapsed": false
   }
  },
  {
   "cell_type": "markdown",
   "source": [
    "<a id=\"4.1\"></a>\n",
    "### 4.1 Gradient Boosting Classifier"
   ],
   "metadata": {
    "collapsed": false
   }
  },
  {
   "cell_type": "code",
   "execution_count": null,
   "outputs": [],
   "source": [
    "#GradientBoostingClassifier\n",
    "GBC = GradientBoostingClassifier()\n",
    "GBC.fit(X_train, y_train)\n",
    "GBC_predicted_y = GBC.predict(X_test)"
   ],
   "metadata": {
    "collapsed": false
   }
  },
  {
   "cell_type": "markdown",
   "source": [
    "<a id=\"4.2\"></a>\n",
    "### 4.2 Random Forest Classifier"
   ],
   "metadata": {
    "collapsed": false
   }
  },
  {
   "cell_type": "code",
   "execution_count": null,
   "outputs": [],
   "source": [
    "#RandomForestClassifier\n",
    "RFC = RandomForestClassifier(n_estimators=10)\n",
    "RFC.fit(X_train, y_train)\n",
    "RFC_predicted_y = RFC.predict(X_test)"
   ],
   "metadata": {
    "collapsed": false
   }
  },
  {
   "cell_type": "markdown",
   "source": [
    "<a id=\"4.3\"></a>\n",
    "### 4.3 Decision Tree Classifier"
   ],
   "metadata": {
    "collapsed": false
   }
  },
  {
   "cell_type": "code",
   "execution_count": null,
   "outputs": [],
   "source": [
    "#DecisionTreeClassifier\n",
    "DTC = DecisionTreeClassifier()\n",
    "DTC.fit(X_train, y_train)\n",
    "DTC_predicted_y = DTC.predict(X_test)"
   ],
   "metadata": {
    "collapsed": false
   }
  },
  {
   "cell_type": "markdown",
   "source": [
    "<a id=\"4.4\"></a>\n",
    "### 4.4 K-Neighbors Classifier"
   ],
   "metadata": {
    "collapsed": false
   }
  },
  {
   "cell_type": "code",
   "execution_count": null,
   "outputs": [],
   "source": [
    "#KNeighborsClassifier\n",
    "KNN = KNeighborsClassifier()\n",
    "KNN.fit(X_train, y_train)\n",
    "KNN_predicted_y = KNN.predict(X_test)"
   ],
   "metadata": {
    "collapsed": false
   }
  },
  {
   "cell_type": "markdown",
   "source": [
    "<a id=\"4.5\"></a>\n",
    "### 4.5 Linear Support Vector Classifier"
   ],
   "metadata": {
    "collapsed": false
   }
  },
  {
   "cell_type": "code",
   "execution_count": null,
   "outputs": [],
   "source": [
    "#LinearSVC\n",
    "SVM = svm.LinearSVC(max_iter=5000)\n",
    "SVM.fit(X_train, y_train)\n",
    "SVM_predicted_y = SVM.predict(X_test)"
   ],
   "metadata": {
    "collapsed": false
   }
  },
  {
   "cell_type": "markdown",
   "source": [
    "<a id=\"4.6\"></a>\n",
    "### 4.6 XGB Classifier"
   ],
   "metadata": {
    "collapsed": false
   }
  },
  {
   "cell_type": "code",
   "execution_count": null,
   "outputs": [],
   "source": [
    "#XGBClassifier\n",
    "XGBC = xgb.XGBClassifier()\n",
    "XGBC.fit(X_train, y_train)\n",
    "XGBC_predicted_y = XGBC.predict(X_test)"
   ],
   "metadata": {
    "collapsed": false
   }
  },
  {
   "cell_type": "markdown",
   "source": [
    "<a id=\"4.7\"></a>\n",
    "### 4.7 Logistic Regression Classifier"
   ],
   "metadata": {
    "collapsed": false
   }
  },
  {
   "cell_type": "code",
   "execution_count": null,
   "outputs": [],
   "source": [
    "#LogisticRegression\n",
    "LRC = LogisticRegression()\n",
    "LRC.fit(X_train, y_train)\n",
    "LRC_predicted_y = LRC.predict(X_test)"
   ],
   "metadata": {
    "collapsed": false
   }
  },
  {
   "cell_type": "markdown",
   "source": [
    "<a id=\"5\"></a>\n",
    "## 5 - Evaluation the Models\n",
    "\n",
    "Let's prepare to store all the scores for the Conclusion later"
   ],
   "metadata": {
    "collapsed": false
   }
  },
  {
   "cell_type": "code",
   "execution_count": null,
   "outputs": [],
   "source": [
    "scores = []\n",
    "classifier = ('Gradient Boosting' , 'Random Forest' ,'Decision Tree' , 'K-Nearest Neighbor' , 'SVM' ,'XGBoost','LogisticRegression')\n",
    "y_pos = np.arange(len(classifier))"
   ],
   "metadata": {
    "collapsed": false
   }
  },
  {
   "cell_type": "markdown",
   "source": [
    "<a id=\"5.1\"></a>\n",
    "### 5.1 Gradient Boosting Classifier"
   ],
   "metadata": {
    "collapsed": false
   }
  },
  {
   "cell_type": "markdown",
   "source": [
    "##### Accuracy"
   ],
   "metadata": {
    "collapsed": false
   }
  },
  {
   "cell_type": "code",
   "execution_count": null,
   "outputs": [],
   "source": [
    "GBC_accuracy_score = accuracy_score(expected_y, GBC_predicted_y)*100\n",
    "scores.append(GBC_accuracy_score)\n",
    "print('The accuracy of GBC classification is %.2f%%' % GBC_accuracy_score)"
   ],
   "metadata": {
    "collapsed": false
   }
  },
  {
   "cell_type": "markdown",
   "source": [
    "##### F1-Score"
   ],
   "metadata": {
    "collapsed": false
   }
  },
  {
   "cell_type": "code",
   "execution_count": null,
   "outputs": [],
   "source": [
    "print('The F1 Score of GBC classification is %.3f' %(f1_score(expected_y, GBC_predicted_y, average='micro')))"
   ],
   "metadata": {
    "collapsed": false
   }
  },
  {
   "cell_type": "markdown",
   "source": [
    "##### Confusion Matrix"
   ],
   "metadata": {
    "collapsed": false
   }
  },
  {
   "cell_type": "code",
   "execution_count": null,
   "outputs": [],
   "source": [
    "cm = confusion_matrix(y_test, GBC_predicted_y)\n",
    "disp = ConfusionMatrixDisplay(confusion_matrix = cm, display_labels = ['N', 'Y'])\n",
    "disp.plot(cmap=plt.cm.Blues)"
   ],
   "metadata": {
    "collapsed": false
   }
  },
  {
   "cell_type": "markdown",
   "source": [
    "<a id=\"5.2\"></a>\n",
    "### 5.2 Random Forest Classifier"
   ],
   "metadata": {
    "collapsed": false
   }
  },
  {
   "cell_type": "markdown",
   "source": [
    "##### Accuracy"
   ],
   "metadata": {
    "collapsed": false
   }
  },
  {
   "cell_type": "code",
   "execution_count": null,
   "outputs": [],
   "source": [
    "RFC_accuracy_score = accuracy_score(expected_y, RFC_predicted_y)*100\n",
    "scores.append(RFC_accuracy_score)\n",
    "print('The accuracy of RFC classification is %.2f%%' % RFC_accuracy_score)"
   ],
   "metadata": {
    "collapsed": false
   }
  },
  {
   "cell_type": "markdown",
   "source": [
    "##### F1-Score"
   ],
   "metadata": {
    "collapsed": false
   }
  },
  {
   "cell_type": "code",
   "execution_count": null,
   "outputs": [],
   "source": [
    "print('The F1 Score of RFC classification is %.3f' %(f1_score(expected_y, RFC_predicted_y, average='micro')))"
   ],
   "metadata": {
    "collapsed": false
   }
  },
  {
   "cell_type": "markdown",
   "source": [
    "##### Confusion Matrix"
   ],
   "metadata": {
    "collapsed": false
   }
  },
  {
   "cell_type": "code",
   "execution_count": null,
   "outputs": [],
   "source": [
    "cm = confusion_matrix(y_test, RFC_predicted_y)\n",
    "disp = ConfusionMatrixDisplay(confusion_matrix = cm, display_labels = ['N', 'Y'])\n",
    "disp.plot(cmap=plt.cm.Blues)"
   ],
   "metadata": {
    "collapsed": false
   }
  },
  {
   "cell_type": "markdown",
   "source": [
    "<a id=\"5.3\"></a>\n",
    "### 5.3 Decision Tree Classifier"
   ],
   "metadata": {
    "collapsed": false
   }
  },
  {
   "cell_type": "markdown",
   "source": [
    "##### Accuracy"
   ],
   "metadata": {
    "collapsed": false
   }
  },
  {
   "cell_type": "code",
   "execution_count": null,
   "outputs": [],
   "source": [
    "DTC_accuracy_score = accuracy_score(expected_y, DTC_predicted_y)*100\n",
    "scores.append(DTC_accuracy_score)\n",
    "print('The accuracy of DTC classification is %.2f%%' % DTC_accuracy_score)"
   ],
   "metadata": {
    "collapsed": false
   }
  },
  {
   "cell_type": "markdown",
   "source": [
    "##### F1-Score"
   ],
   "metadata": {
    "collapsed": false
   }
  },
  {
   "cell_type": "code",
   "execution_count": null,
   "outputs": [],
   "source": [
    "print('The F1 Score of DTC classification is %.3f' %(f1_score(expected_y, DTC_predicted_y, average='micro')))"
   ],
   "metadata": {
    "collapsed": false
   }
  },
  {
   "cell_type": "markdown",
   "source": [
    "##### Confusion Matrix"
   ],
   "metadata": {
    "collapsed": false
   }
  },
  {
   "cell_type": "code",
   "execution_count": null,
   "outputs": [],
   "source": [
    "cm = confusion_matrix(y_test, DTC_predicted_y)\n",
    "disp = ConfusionMatrixDisplay(confusion_matrix = cm, display_labels = ['N', 'Y'])\n",
    "disp.plot(cmap=plt.cm.Blues)"
   ],
   "metadata": {
    "collapsed": false
   }
  },
  {
   "cell_type": "markdown",
   "source": [
    "<a id=\"5.4\"></a>\n",
    "### 5.4 K-Neighbor Classifier"
   ],
   "metadata": {
    "collapsed": false
   }
  },
  {
   "cell_type": "markdown",
   "source": [
    "##### Accuracy"
   ],
   "metadata": {
    "collapsed": false
   }
  },
  {
   "cell_type": "code",
   "execution_count": null,
   "outputs": [],
   "source": [
    "KNN_accuracy_score = accuracy_score(expected_y, KNN_predicted_y)*100\n",
    "scores.append(KNN_accuracy_score)\n",
    "print('The accuracy of KNN classification is %.2f%%' % KNN_accuracy_score)"
   ],
   "metadata": {
    "collapsed": false
   }
  },
  {
   "cell_type": "markdown",
   "source": [
    "##### F1-Score"
   ],
   "metadata": {
    "collapsed": false
   }
  },
  {
   "cell_type": "code",
   "execution_count": null,
   "outputs": [],
   "source": [
    "print('The F1 Score of KNN classification is %.3f' %(f1_score(expected_y, KNN_predicted_y, average='micro')))"
   ],
   "metadata": {
    "collapsed": false
   }
  },
  {
   "cell_type": "markdown",
   "source": [
    "##### Confusion Matrix"
   ],
   "metadata": {
    "collapsed": false
   }
  },
  {
   "cell_type": "code",
   "execution_count": null,
   "outputs": [],
   "source": [
    "cm = confusion_matrix(y_test, KNN_predicted_y)\n",
    "disp = ConfusionMatrixDisplay(confusion_matrix = cm, display_labels = ['N', 'Y'])\n",
    "disp.plot(cmap=plt.cm.Blues)"
   ],
   "metadata": {
    "collapsed": false
   }
  },
  {
   "cell_type": "markdown",
   "source": [
    "<a id=\"5.5\"></a>\n",
    "### 5.5 Linear Support Vector Classifier"
   ],
   "metadata": {
    "collapsed": false
   }
  },
  {
   "cell_type": "markdown",
   "source": [
    "##### Accuracy"
   ],
   "metadata": {
    "collapsed": false
   }
  },
  {
   "cell_type": "code",
   "execution_count": null,
   "outputs": [],
   "source": [
    "SVM_accuracy_score = accuracy_score(expected_y, SVM_predicted_y)*100\n",
    "scores.append(SVM_accuracy_score)\n",
    "print('The accuracy of SVM classification is %.2f%%' % SVM_accuracy_score)"
   ],
   "metadata": {
    "collapsed": false
   }
  },
  {
   "cell_type": "markdown",
   "source": [
    "##### F1-Score"
   ],
   "metadata": {
    "collapsed": false
   }
  },
  {
   "cell_type": "code",
   "execution_count": null,
   "outputs": [],
   "source": [
    "print('The F1 Score of SVM classification is %.3f' %(f1_score(expected_y, SVM_predicted_y, average='micro')))"
   ],
   "metadata": {
    "collapsed": false
   }
  },
  {
   "cell_type": "markdown",
   "source": [
    "##### Confusion Matrix"
   ],
   "metadata": {
    "collapsed": false
   }
  },
  {
   "cell_type": "code",
   "execution_count": null,
   "outputs": [],
   "source": [
    "cm = confusion_matrix(y_test, SVM_predicted_y)\n",
    "disp = ConfusionMatrixDisplay(confusion_matrix = cm, display_labels = ['N', 'Y'])\n",
    "disp.plot(cmap=plt.cm.Blues)"
   ],
   "metadata": {
    "collapsed": false
   }
  },
  {
   "cell_type": "markdown",
   "source": [
    "<a id=\"5.6\"></a>\n",
    "### 5.6 XGB Classifier"
   ],
   "metadata": {
    "collapsed": false
   }
  },
  {
   "cell_type": "markdown",
   "source": [
    "##### Accuracy"
   ],
   "metadata": {
    "collapsed": false
   }
  },
  {
   "cell_type": "code",
   "execution_count": null,
   "outputs": [],
   "source": [
    "XGB_accuracy_score = accuracy_score(expected_y, XGBC_predicted_y)*100\n",
    "scores.append(XGB_accuracy_score)\n",
    "print('The accuracy of XGBC classification is %.2f%%' % XGB_accuracy_score)"
   ],
   "metadata": {
    "collapsed": false
   }
  },
  {
   "cell_type": "markdown",
   "source": [
    "##### F1-Score"
   ],
   "metadata": {
    "collapsed": false
   }
  },
  {
   "cell_type": "code",
   "execution_count": null,
   "outputs": [],
   "source": [
    "print('The F1 Score of XGBC classification is %.3f' %(f1_score(expected_y, XGBC_predicted_y, average='micro')))"
   ],
   "metadata": {
    "collapsed": false
   }
  },
  {
   "cell_type": "markdown",
   "source": [
    "##### Confusion Matrix"
   ],
   "metadata": {
    "collapsed": false
   }
  },
  {
   "cell_type": "code",
   "execution_count": null,
   "outputs": [],
   "source": [
    "cm = confusion_matrix(y_test, XGBC_predicted_y)\n",
    "disp = ConfusionMatrixDisplay(confusion_matrix = cm, display_labels = ['N', 'Y'])\n",
    "disp.plot(cmap=plt.cm.Blues)"
   ],
   "metadata": {
    "collapsed": false
   }
  },
  {
   "cell_type": "markdown",
   "source": [
    "<a id=\"5.7\"></a>\n",
    "### 5.7 Logistic Regression Classifier"
   ],
   "metadata": {
    "collapsed": false
   }
  },
  {
   "cell_type": "markdown",
   "source": [
    "##### Accuracy"
   ],
   "metadata": {
    "collapsed": false
   }
  },
  {
   "cell_type": "code",
   "execution_count": null,
   "outputs": [],
   "source": [
    "LR_accuracy_score = accuracy_score(expected_y, LRC_predicted_y)*100\n",
    "scores.append(LR_accuracy_score)\n",
    "print('The accuracy of LGC classification is %.2f%%' % LR_accuracy_score)"
   ],
   "metadata": {
    "collapsed": false
   }
  },
  {
   "cell_type": "markdown",
   "source": [
    "##### F1-Score"
   ],
   "metadata": {
    "collapsed": false
   }
  },
  {
   "cell_type": "code",
   "execution_count": null,
   "outputs": [],
   "source": [
    "print('The F1 Score of LGC classification is %.3f' %(f1_score(expected_y, LRC_predicted_y, average='micro')))"
   ],
   "metadata": {
    "collapsed": false
   }
  },
  {
   "cell_type": "markdown",
   "source": [
    "##### Confusion Matrix"
   ],
   "metadata": {
    "collapsed": false
   }
  },
  {
   "cell_type": "code",
   "execution_count": null,
   "outputs": [],
   "source": [
    "cm = confusion_matrix(y_test, LRC_predicted_y)\n",
    "disp = ConfusionMatrixDisplay(confusion_matrix = cm, display_labels = ['N', 'Y'])\n",
    "disp.plot(cmap=plt.cm.Blues)"
   ],
   "metadata": {
    "collapsed": false
   }
  },
  {
   "cell_type": "markdown",
   "source": [
    "<a id=\"6\"></a>\n",
    "## 6 - Conclusion\n",
    "\n",
    "Let's Compare all accuracy of all the previous Classification Models"
   ],
   "metadata": {
    "collapsed": false
   }
  },
  {
   "cell_type": "code",
   "execution_count": null,
   "outputs": [],
   "source": [
    "plt.barh(y_pos, scores, align='center', alpha=0.5)\n",
    "plt.yticks(y_pos, classifier)\n",
    "plt.xlabel('Score')\n",
    "plt.title('Classification Performance')\n",
    "plt.show()"
   ],
   "metadata": {
    "collapsed": false
   }
  },
  {
   "cell_type": "markdown",
   "source": [
    "##### The result is *Gradient Boosting Classifier* have the highest score from other classification algorithm."
   ],
   "metadata": {
    "collapsed": false
   }
  },
  {
   "cell_type": "code",
   "execution_count": null,
   "outputs": [],
   "source": [],
   "metadata": {
    "collapsed": false
   }
  }
 ],
 "metadata": {
  "kernelspec": {
   "display_name": "Python 3 (ipykernel)",
   "language": "python",
   "name": "python3"
  },
  "language_info": {
   "codemirror_mode": {
    "name": "ipython",
    "version": 3
   },
   "file_extension": ".py",
   "mimetype": "text/x-python",
   "name": "python",
   "nbconvert_exporter": "python",
   "pygments_lexer": "ipython3",
   "version": "3.9.7"
  }
 },
 "nbformat": 4,
 "nbformat_minor": 1
}
